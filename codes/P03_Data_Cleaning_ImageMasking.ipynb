{
 "cells": [
  {
   "cell_type": "markdown",
   "metadata": {},
   "source": [
    "https://github.com/DIUx-xView/xView2_baseline/blob/master/utils/mask_polygons.py"
   ]
  },
  {
   "cell_type": "code",
   "execution_count": 1,
   "metadata": {},
   "outputs": [],
   "source": [
    "import json\n",
    "from os import path, walk, makedirs\n",
    "from sys import exit, stderr\n",
    "\n",
    "from cv2 import fillPoly, imwrite\n",
    "import numpy as np\n",
    "from shapely import wkt\n",
    "from shapely.geometry import mapping, Polygon\n",
    "from skimage.io import imread\n",
    "from tqdm import tqdm\n",
    "import imantics \n",
    "\n",
    "# This removes the massive amount of scikit warnings of \"low contrast images\"\n",
    "import warnings\n",
    "warnings.filterwarnings(\"ignore\", category=UserWarning)"
   ]
  },
  {
   "cell_type": "code",
   "execution_count": 2,
   "metadata": {},
   "outputs": [],
   "source": [
    "def get_dimensions(file_path):\n",
    "    \"\"\"\n",
    "    :param file_path: The path of the file \n",
    "    :return: returns (width,height,channels)\n",
    "    \"\"\"\n",
    "    # Open the image we are going to mask\n",
    "    pil_img = imread(file_path)\n",
    "    img = np.array(pil_img)\n",
    "    w, h, c = img.shape\n",
    "    return (w, h, c)"
   ]
  },
  {
   "cell_type": "code",
   "execution_count": 3,
   "metadata": {},
   "outputs": [
    {
     "data": {
      "text/plain": [
       "(1024, 1024, 3)"
      ]
     },
     "execution_count": 3,
     "metadata": {},
     "output_type": "execute_result"
    }
   ],
   "source": [
    "post_fire_file_path = \"../datasets/train/images/santa-rosa-wildfire_00000015_post_disaster.png\"\n",
    "\n",
    "get_dimensions(post_fire_file_path)"
   ]
  },
  {
   "cell_type": "code",
   "execution_count": null,
   "metadata": {},
   "outputs": [],
   "source": []
  },
  {
   "cell_type": "code",
   "execution_count": 4,
   "metadata": {},
   "outputs": [],
   "source": [
    "def mask_polygons_separately(size, shapes):\n",
    "    \"\"\"\n",
    "    :param size: A tuple of the (width,height,channels)\n",
    "    :param shapes: A list of points in the polygon from get_feature_info\n",
    "    :returns: a dict of masked polygons with the shapes filled in from cv2.fillPoly\n",
    "    \"\"\"\n",
    "    # For each WKT polygon, read the WKT format and fill the polygon as an image\n",
    "    masked_polys = {}\n",
    "\n",
    "    for u in shapes:\n",
    "        sh = shapes[u]\n",
    "        mask_img = np.zeros(size, np.uint8)\n",
    "        i = fillPoly(mask_img, [sh], (255, 255, 255))\n",
    "        masked_polys[u] = i\n",
    "\n",
    "    return masked_polys"
   ]
  },
  {
   "cell_type": "code",
   "execution_count": 5,
   "metadata": {},
   "outputs": [],
   "source": [
    "def mask_polygons_together(size, shapes):\n",
    "    \"\"\"\n",
    "    :param size: A tuple of the (width,height,channels)\n",
    "    :param shapes: A list of points in the polygon from get_feature_info\n",
    "    :returns: A numpy array with the polygons filled 255s where there's a building and 0 where not \n",
    "    \"\"\"\n",
    "    # For each WKT polygon, read the WKT format and fill the polygon as an image\n",
    "    mask_img = np.zeros(size, np.uint8)\n",
    "\n",
    "    for u in shapes:\n",
    "        blank =  np.zeros(size, np.uint8)\n",
    "        poly = shapes[u] \n",
    "        fillPoly(blank, [poly], (1, 1, 1))\n",
    "        mask_img += blank\n",
    "    \n",
    "    # Here we are taking the overlap (+=) and squashing it back to 0\n",
    "    mask_img[mask_img > 1] = 0\n",
    "\n",
    "    # Finally we are taking all 1s and making it pure white (255)\n",
    "    mask_img[mask_img == 1] = 255\n",
    "\n",
    "    return mask_img"
   ]
  },
  {
   "cell_type": "code",
   "execution_count": 6,
   "metadata": {},
   "outputs": [],
   "source": [
    "def mask_polygons_together_with_border(size, shapes, border):\n",
    "    \"\"\"\n",
    "    :param size: A tuple of the (width,height,channels)\n",
    "    :param shapes: A list of points in the polygon from get_feature_info\n",
    "    :returns: a dict of masked polygons with the shapes filled in from cv2.fillPoly\n",
    "    \"\"\"\n",
    "\n",
    "    # For each WKT polygon, read the WKT format and fill the polygon as an image\n",
    "    mask_img = np.zeros(size, np.uint8)\n",
    "\n",
    "    for u in shapes:\n",
    "        blank =  np.zeros(size, np.uint8)\n",
    "        # Each polygon stored in shapes is a np.ndarray\n",
    "        poly = shapes[u]\n",
    "        \n",
    "        # Creating a shapely polygon object out of the numpy array \n",
    "        polygon = Polygon(poly)\n",
    "\n",
    "        # Getting the center points from the polygon and the polygon points\n",
    "        (poly_center_x, poly_center_y) = polygon.centroid.coords[0]\n",
    "        polygon_points = polygon.exterior.coords\n",
    "\n",
    "        # Setting a new polygon with each X,Y manipulated based off the center point\n",
    "        shrunk_polygon = []\n",
    "        for (x,y) in polygon_points:\n",
    "            if x < poly_center_x:\n",
    "                x += border\n",
    "            elif x > poly_center_x:\n",
    "                x -= border\n",
    "\n",
    "            if y < poly_center_y:\n",
    "                y += border\n",
    "            elif y > poly_center_y:\n",
    "                y -= border\n",
    "\n",
    "            shrunk_polygon.append([x,y])\n",
    "        \n",
    "        # Transforming the polygon back to a np.ndarray\n",
    "        ns_poly = np.array(shrunk_polygon, np.int32)\n",
    "  \n",
    "        # Filling the shrunken polygon to add a border between close polygons\n",
    "        fillPoly(blank, [ns_poly], (1, 1, 1))\n",
    "        mask_img += blank\n",
    "    \n",
    "    mask_img[mask_img > 1] = 0\n",
    "    mask_img[mask_img == 1] = 255\n",
    "    return mask_img"
   ]
  },
  {
   "cell_type": "code",
   "execution_count": 7,
   "metadata": {},
   "outputs": [],
   "source": [
    "def save_masks(masks, output_path, mask_file_name):\n",
    "    \"\"\"\n",
    "    :param masks: dictionary of UID:masked polygons from mask_polygons_separately()\n",
    "    :param output_path: path to save the masks\n",
    "    :param mask_file_name: the file name the masks should have \n",
    "    \"\"\"\n",
    "    # For each filled polygon, write out a separate file, increasing the name\n",
    "    for m in masks:\n",
    "        final_out = path.join(output_path,\n",
    "                              mask_file_name + '_{}.png'.format(m))\n",
    "        imwrite(final_out, masks[m])"
   ]
  },
  {
   "cell_type": "code",
   "execution_count": 8,
   "metadata": {},
   "outputs": [],
   "source": [
    "def save_one_mask(masks, output_path, mask_file_name):\n",
    "    \"\"\"\n",
    "    :param masks: list of masked polygons from the mask_polygons_separately function \n",
    "    :param output_path: path to save the masks\n",
    "    :param mask_file_name: the file name the masks should have \n",
    "    \"\"\"\n",
    "    # For each filled polygon, write the mask shape out to the file per image\n",
    "    mask_file_name = path.join(output_path, mask_file_name + '.png')\n",
    "    imwrite(mask_file_name, masks)"
   ]
  },
  {
   "cell_type": "code",
   "execution_count": 9,
   "metadata": {},
   "outputs": [],
   "source": [
    "def read_json(json_path):\n",
    "    \"\"\"\n",
    "    :param json_path: path to load json from\n",
    "    :returns: a python dictionary of json features\n",
    "    \"\"\"\n",
    "    annotations = json.load(open(json_path))\n",
    "    return annotations"
   ]
  },
  {
   "cell_type": "code",
   "execution_count": 10,
   "metadata": {},
   "outputs": [],
   "source": [
    "def get_feature_info(feature):\n",
    "    \"\"\"\n",
    "    :param feature: a python dictionary of json labels\n",
    "    :returns: a list mapping of polygons contained in the image \n",
    "    \"\"\"\n",
    "    # Getting each polygon points from the json file and adding it to a dictionary of uid:polygons\n",
    "    props = {}\n",
    "\n",
    "    for feat in feature['features']['xy']:\n",
    "        feat_shape = wkt.loads(feat['wkt'])\n",
    "        coords = list(mapping(feat_shape)['coordinates'][0])\n",
    "        props[feat['properties']['uid']] = (np.array(coords, np.int32))\n",
    "\n",
    "    return props"
   ]
  },
  {
   "cell_type": "code",
   "execution_count": 11,
   "metadata": {},
   "outputs": [],
   "source": [
    "# def mask_chips(json_path, images_directory, output_directory, single_file, border):\n",
    "#     \"\"\"\n",
    "#     :param json_path: path to find multiple json files for the chips\n",
    "#     :param images_directory: path to the directory containing the images to be masked\n",
    "#     :param output_directory: path to the directory where masks are to be saved\n",
    "#     :param single_file: a boolean value to see if masks should be saved a single file or multiple\n",
    "#     \"\"\"\n",
    "#     # For each feature in the json we will create a separate mask\n",
    "#     # Getting all files in the directory provided for jsons\n",
    "#     jsons = [j for j in next(walk(json_path))[2] if '_pre' in j]\n",
    "\n",
    "#     # After removing non-json items in dir (if any)\n",
    "#     for j in tqdm([j for j in jsons if j.endswith('json')],\n",
    "#                   unit='poly',\n",
    "#                   leave=False):\n",
    "#         # Our chips start off in life as PNGs\n",
    "#         chip_image_id = path.splitext(j)[0] + '.png'\n",
    "#         mask_file = path.splitext(j)[0]\n",
    "\n",
    "#         # Loading the per chip json\n",
    "#         j_full_path = path.join(json_path, j)\n",
    "#         chip_json = read_json(j_full_path)\n",
    "\n",
    "#         # Getting the full chip path, and loading the size dimensions\n",
    "#         chip_file = path.join(images_directory, chip_image_id)\n",
    "#         chip_size = get_dimensions(chip_file)\n",
    "\n",
    "#         # Reading in the polygons from the json file\n",
    "#         polys = get_feature_info(chip_json)\n",
    "\n",
    "#         # Getting a list of the polygons and saving masks as separate or single image files\n",
    "#         if len(polys) > 0:\n",
    "#             if single_file:\n",
    "#                 if border > 0:\n",
    "#                     masked_polys = mask_polygons_together_with_border(chip_size, polys, border)\n",
    "#                 else:\n",
    "#                     masked_polys = mask_polygons_together(chip_size, polys)\n",
    "#                 save_one_mask(masked_polys, output_directory, mask_file)\n",
    "#             else:\n",
    "#                 masked_polys = mask_polygons_separately(chip_size, polys)\n",
    "#                 save_masks(masked_polys, output_directory, mask_file)\n"
   ]
  },
  {
   "cell_type": "code",
   "execution_count": null,
   "metadata": {},
   "outputs": [],
   "source": [
    "# Create the full path to the images, labels, and mask output directories\n",
    "images_directory = \"../datasets/train/images/\"\n",
    "json_path = \"../datasets/train/labels/\"\n",
    "output_directory = \"../datasets/train/masks/\"\n",
    "single_file = False\n",
    "\n",
    "border = -1\n",
    "\n",
    "\n",
    "\"\"\"\n",
    ":param json_path: path to find multiple json files for the chips\n",
    ":param images_directory: path to the directory containing the images to be masked\n",
    ":param output_directory: path to the directory where masks are to be saved\n",
    ":param single_file: a boolean value to see if masks should be saved a single file or multiple\n",
    "\"\"\"\n",
    "# For each feature in the json we will create a separate mask\n",
    "# Getting all files in the directory provided for jsons\n",
    "jsons = [j for j in next(walk(json_path))[2] if '_pre' in j]\n",
    "\n",
    "# # After removing non-json items in dir (if any)\n",
    "# for j in tqdm([j for j in jsons if j.endswith('json')],\n",
    "#               unit='poly',\n",
    "#               leave=False):\n",
    "unit='poly'\n",
    "leave=False\n",
    "\n",
    "j = jsons[0]\n",
    "# Our chips start off in life as PNGs\n",
    "chip_image_id = path.splitext(j)[0] + '.png'\n",
    "mask_file = path.splitext(j)[0]\n",
    "\n",
    "# Loading the per chip json\n",
    "j_full_path = path.join(json_path, j)\n",
    "chip_json = read_json(j_full_path)\n",
    "\n",
    "# Getting the full chip path, and loading the size dimensions\n",
    "chip_file = path.join(images_directory, chip_image_id)\n",
    "chip_size = get_dimensions(chip_file)\n",
    "\n",
    "# Reading in the polygons from the json file\n",
    "polys = get_feature_info(chip_json)\n",
    "\n",
    "#     # Getting a list of the polygons and saving masks as separate or single image files\n",
    "#     if len(polys) > 0:\n",
    "#         if single_file:\n",
    "#             if border > 0:\n",
    "#                 masked_polys = mask_polygons_together_with_border(chip_size, polys, border)\n",
    "#             else:\n",
    "#                 masked_polys = mask_polygons_together(chip_size, polys)\n",
    "#             save_one_mask(masked_polys, output_directory, mask_file)\n",
    "#         else:\n",
    "#             masked_polys = mask_polygons_separately(chip_size, polys)\n",
    "#             save_masks(masked_polys, output_directory, mask_file)"
   ]
  },
  {
   "cell_type": "code",
   "execution_count": null,
   "metadata": {},
   "outputs": [],
   "source": [
    "path.splitext(jsons[0])[0]"
   ]
  },
  {
   "cell_type": "code",
   "execution_count": null,
   "metadata": {},
   "outputs": [],
   "source": [
    "(chip_json[\"features\"]);"
   ]
  },
  {
   "cell_type": "code",
   "execution_count": null,
   "metadata": {},
   "outputs": [],
   "source": [
    "chip_size"
   ]
  },
  {
   "cell_type": "code",
   "execution_count": null,
   "metadata": {},
   "outputs": [],
   "source": []
  }
 ],
 "metadata": {
  "kernelspec": {
   "display_name": "Python [conda env:dsi]",
   "language": "python",
   "name": "conda-env-dsi-py"
  },
  "language_info": {
   "codemirror_mode": {
    "name": "ipython",
    "version": 3
   },
   "file_extension": ".py",
   "mimetype": "text/x-python",
   "name": "python",
   "nbconvert_exporter": "python",
   "pygments_lexer": "ipython3",
   "version": "3.7.7"
  }
 },
 "nbformat": 4,
 "nbformat_minor": 4
}
