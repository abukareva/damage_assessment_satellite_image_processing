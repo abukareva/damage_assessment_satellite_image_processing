{
 "cells": [
  {
   "cell_type": "code",
   "execution_count": 1,
   "metadata": {},
   "outputs": [],
   "source": [
    "import json\n",
    "from os import path, walk, makedirs\n",
    "from sys import exit, stderr\n",
    "\n",
    "from cv2 import fillPoly, imwrite\n",
    "import numpy as np\n",
    "from shapely import wkt\n",
    "from shapely.geometry import mapping, Polygon\n",
    "from skimage.io import imread\n",
    "from tqdm import tqdm\n",
    "import imantics \n",
    "\n",
    "# This removes the massive amount of scikit warnings of \"low contrast images\"\n",
    "import warnings\n",
    "warnings.filterwarnings(\"ignore\", category=UserWarning)"
   ]
  },
  {
   "cell_type": "markdown",
   "metadata": {},
   "source": [
    "### intersection with images: crop and generate masks"
   ]
  },
  {
   "cell_type": "markdown",
   "metadata": {},
   "source": [
    "This section crops the geotiffs according to the bounding box for each area of interest. It then finds the intersection of the damaged building polygons with the satellite image and creates a pixel mask of 0s and 1s, with 1s indicating the pixel is part of a damaged building."
   ]
  },
  {
   "cell_type": "code",
   "execution_count": null,
   "metadata": {
    "collapsed": false,
    "jupyter": {
     "outputs_hidden": false
    }
   },
   "outputs": [],
   "source": [
    "def crop_images(coordinates, image_dir_path, img_out_path, series):\n",
    "\n",
    "    img_list = [os.path.join(image_dir_path, image_name) \n",
    "                   for image_name in os.listdir(image_dir_path) \n",
    "                   if image_name.lower().endswith('tif')]\n",
    "\n",
    "    image_names = [image_name[:-4] for image_name in os.listdir(image_dir_path) if image_name.lower().endswith('tif')]\n",
    "\n",
    "    i = 0\n",
    "    for image in img_list:\n",
    "        geom = [{'type': 'Polygon', 'coordinates': [coordinates]}]\n",
    "\n",
    "        with rasterio.open(image) as src:\n",
    "            out_image, out_transform = mask(src, geom, crop = True)\n",
    "        out_meta = src.meta.copy()\n",
    "\n",
    "        # save the resulting raster  \n",
    "        out_meta.update({\"driver\": \"GTiff\",\n",
    "                        \"height\": out_image.shape[1],\n",
    "                        \"width\": out_image.shape[2],\n",
    "                        \"transform\": out_transform})\n",
    "\n",
    "        with rasterio.open(img_out_path + image_names[i] + '_crop_' + str(series) + '.tif', \"w\", **out_meta) as dest:\n",
    "            dest.write(out_image)  \n",
    "        i +=1"
   ]
  },
  {
   "cell_type": "code",
   "execution_count": null,
   "metadata": {},
   "outputs": [],
   "source": [
    "def polycoords(poly):\n",
    "    \"\"\"Convert a polygon into the format expected by OpenCV\n",
    "    \"\"\"\n",
    "    if poly.type in ['MultiPolygon', 'GeometryCollection']:\n",
    "        return [np.array(p.exterior.coords) for p in poly if p.type == 'Polygon']\n",
    "    elif poly.type == 'Polygon':\n",
    "        return [np.array(poly.exterior.coords)]\n",
    "    else:\n",
    "        print('Encountered unrecognized geometry type {}. Ignoring.'.format(poly.type))\n",
    "        return []"
   ]
  },
  {
   "cell_type": "code",
   "execution_count": null,
   "metadata": {},
   "outputs": [],
   "source": [
    "def generate_masks(image_path, building_polygon_df):\n",
    "    \n",
    "    def make_mask_from_many(img_shape, poly_list):\n",
    "        \"\"\"Make a mask from multiple polygons\"\"\"\n",
    "        poly_pts = [polycoords(poly) for poly in coord_list if poly]\n",
    "        # note: deal with rounding here??\n",
    "        polys = [[x.astype(int) for x in j] for j in poly_pts]\n",
    "        polys = [np.asarray(poly) for poly in polys]\n",
    "        # Create an empty mask and then fill in the polygons\n",
    "        mask = np.zeros(img_shape[:2])\n",
    "        cv2.fillPoly(mask, polys, 1)\n",
    "        return mask.astype('uint8')\n",
    "\n",
    "    # create mask for given image\n",
    "\n",
    "    src = rasterio.open(image_path)\n",
    "    img = src.read().transpose([1,2,0])\n",
    "    img_bounds = shapely.geometry.box(*src.bounds)\n",
    "    img_transform = list(np.array(~src.affine)[[0, 1, 3, 4, 2, 5]])\n",
    "\n",
    "    coord_list = []\n",
    "    \n",
    "    for poly in collapsed.geometry:\n",
    "\n",
    "        mask_poly = poly.intersection(img_bounds)\n",
    "        mask_poly_pxcoords = shapely.affinity.affine_transform(mask_poly, img_transform)\n",
    "        coord_list.append(mask_poly_pxcoords)\n",
    "            \n",
    "    mask = make_mask_from_many(img.shape, coord_list)\n",
    "    # removing first row which is a border (remnant of cropping)\n",
    "    mask = mask[1:, :]\n",
    "\n",
    "    return mask"
   ]
  },
  {
   "cell_type": "code",
   "execution_count": null,
   "metadata": {
    "collapsed": false,
    "jupyter": {
     "outputs_hidden": false
    }
   },
   "outputs": [],
   "source": [
    "# crop talcoban city\n",
    "coords = list(talcoban.boundary.coords)\n",
    "\n",
    "images_in = '/mnt/merged_images/'\n",
    "imgages_out = '/mnt/cropped_images/'\n",
    "crop_images(coords, images_in, imgages_out, 1)"
   ]
  },
  {
   "cell_type": "code",
   "execution_count": null,
   "metadata": {
    "collapsed": false,
    "jupyter": {
     "outputs_hidden": false
    }
   },
   "outputs": [],
   "source": [
    "# print(talcoban.centroid)"
   ]
  },
  {
   "cell_type": "code",
   "execution_count": null,
   "metadata": {
    "collapsed": false,
    "jupyter": {
     "outputs_hidden": false
    }
   },
   "outputs": [],
   "source": [
    "# samar\n",
    "coords = list(samar.boundary.coords)\n",
    "\n",
    "images_in = '/mnt/merged_images/'\n",
    "imgages_out = '/mnt/cropped_images/'\n",
    "crop_images(coords, images_in, imgages_out, 2)"
   ]
  },
  {
   "cell_type": "code",
   "execution_count": null,
   "metadata": {},
   "outputs": [],
   "source": [
    "# palo\n",
    "coords = list(palo.boundary.coords)\n",
    "\n",
    "images_in = '/mnt/merged_images/'\n",
    "imgages_out = '/mnt/cropped_images/'\n",
    "crop_images(coords, images_in, imgages_out, 3)"
   ]
  },
  {
   "cell_type": "code",
   "execution_count": null,
   "metadata": {
    "collapsed": false,
    "jupyter": {
     "outputs_hidden": false
    }
   },
   "outputs": [],
   "source": [
    "print(palo.centroid)"
   ]
  },
  {
   "cell_type": "code",
   "execution_count": null,
   "metadata": {},
   "outputs": [],
   "source": [
    "# guiuan\n",
    "coords = list(guiuan.boundary.coords)\n",
    "\n",
    "images_in = '/mnt/merged_images/'\n",
    "imgages_out = '/mnt/cropped_images/'\n",
    "crop_images(coords, images_in, imgages_out, 4)"
   ]
  },
  {
   "cell_type": "code",
   "execution_count": null,
   "metadata": {
    "collapsed": false,
    "jupyter": {
     "outputs_hidden": false
    }
   },
   "outputs": [],
   "source": [
    "# generate masks from cropped sharpened post image\n",
    "image_in = '/mnt/cropped_images/POST_pan_sharp_crop_1.tif'\n",
    "mask1 = generate_masks(image_in, collapsed)\n",
    "image_in = '/mnt/cropped_images/POST_pan_sharp_crop_2.tif'\n",
    "mask2 = generate_masks(image_in, collapsed)\n",
    "image_in = '/mnt/cropped_images/POST_pan_sharp_crop_3.tif'\n",
    "mask3 = generate_masks(image_in, collapsed)\n",
    "image_in = '/mnt/cropped_images/POST_pan_sharp_crop_4.tif'\n",
    "mask4 = generate_masks(image_in, collapsed)"
   ]
  },
  {
   "cell_type": "code",
   "execution_count": null,
   "metadata": {
    "collapsed": true,
    "jupyter": {
     "outputs_hidden": true
    }
   },
   "outputs": [],
   "source": []
  },
  {
   "cell_type": "markdown",
   "metadata": {},
   "source": [
    "**a few checks:**"
   ]
  },
  {
   "cell_type": "markdown",
   "metadata": {},
   "source": [
    "Checks confirm mask shapes are reasonable and that masks have nonzero values."
   ]
  },
  {
   "cell_type": "code",
   "execution_count": null,
   "metadata": {
    "collapsed": false,
    "jupyter": {
     "outputs_hidden": false
    }
   },
   "outputs": [],
   "source": [
    "mask1.shape"
   ]
  },
  {
   "cell_type": "code",
   "execution_count": null,
   "metadata": {
    "collapsed": false,
    "jupyter": {
     "outputs_hidden": false
    }
   },
   "outputs": [],
   "source": [
    "np.nonzero(mask1)"
   ]
  },
  {
   "cell_type": "code",
   "execution_count": null,
   "metadata": {
    "collapsed": false,
    "jupyter": {
     "outputs_hidden": false
    }
   },
   "outputs": [],
   "source": [
    "mask2.shape"
   ]
  },
  {
   "cell_type": "code",
   "execution_count": null,
   "metadata": {
    "collapsed": false,
    "jupyter": {
     "outputs_hidden": false
    }
   },
   "outputs": [],
   "source": [
    "# np.nonzero(mask2)"
   ]
  },
  {
   "cell_type": "code",
   "execution_count": null,
   "metadata": {
    "collapsed": false,
    "jupyter": {
     "outputs_hidden": false
    }
   },
   "outputs": [],
   "source": [
    "mask3.shape"
   ]
  },
  {
   "cell_type": "code",
   "execution_count": null,
   "metadata": {
    "collapsed": false,
    "jupyter": {
     "outputs_hidden": false
    }
   },
   "outputs": [],
   "source": [
    "np.nonzero(mask3)"
   ]
  },
  {
   "cell_type": "code",
   "execution_count": null,
   "metadata": {
    "collapsed": false,
    "jupyter": {
     "outputs_hidden": false
    }
   },
   "outputs": [],
   "source": [
    "mask4.shape"
   ]
  },
  {
   "cell_type": "code",
   "execution_count": null,
   "metadata": {
    "collapsed": false,
    "jupyter": {
     "outputs_hidden": false
    }
   },
   "outputs": [],
   "source": [
    "np.nonzero(mask4)"
   ]
  },
  {
   "cell_type": "code",
   "execution_count": null,
   "metadata": {
    "collapsed": false,
    "jupyter": {
     "outputs_hidden": false
    }
   },
   "outputs": [],
   "source": [
    "# percent of nonzeros for mask1\n",
    "len(np.nonzero(mask1)[0]) / (len(mask1[0])*len(mask1[1])) * 100"
   ]
  },
  {
   "cell_type": "code",
   "execution_count": null,
   "metadata": {
    "collapsed": false,
    "jupyter": {
     "outputs_hidden": false
    }
   },
   "outputs": [],
   "source": [
    "# percent of nonzeros for mask2\n",
    "len(np.nonzero(mask2)[0]) / (len(mask2[0])*len(mask2[1])) * 100"
   ]
  },
  {
   "cell_type": "code",
   "execution_count": null,
   "metadata": {
    "collapsed": false,
    "jupyter": {
     "outputs_hidden": false
    }
   },
   "outputs": [],
   "source": [
    "# percent of nonzeros for mask3\n",
    "len(np.nonzero(mask3)[0]) / (len(mask3[0])*len(mask3[1])) * 100"
   ]
  },
  {
   "cell_type": "code",
   "execution_count": null,
   "metadata": {
    "collapsed": false,
    "jupyter": {
     "outputs_hidden": false
    }
   },
   "outputs": [],
   "source": [
    "# percent of nonzeros for mask4\n",
    "len(np.nonzero(mask4)[0]) / (len(mask4[0])*len(mask4[1])) * 100"
   ]
  }
 ],
 "metadata": {
  "kernelspec": {
   "display_name": "Python [conda env:dsi]",
   "language": "python",
   "name": "conda-env-dsi-py"
  },
  "language_info": {
   "codemirror_mode": {
    "name": "ipython",
    "version": 3
   },
   "file_extension": ".py",
   "mimetype": "text/x-python",
   "name": "python",
   "nbconvert_exporter": "python",
   "pygments_lexer": "ipython3",
   "version": "3.7.7"
  }
 },
 "nbformat": 4,
 "nbformat_minor": 4
}
